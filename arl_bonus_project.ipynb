{
 "cells": [
  {
   "cell_type": "markdown",
   "metadata": {},
   "source": [
    "# İş Problemi"
   ]
  },
  {
   "cell_type": "markdown",
   "metadata": {},
   "source": [
    "Aşağıda 3 farklı kullanıcının sepet bilgileri verilmiştir. Bu sepet bilgilerine en uygun ürün önerisini birliktelik kuralı kullanarak yapınız. Ürün önerileri 1 tane ya da 1'den fazla olabilir. Karar kurallarını 2010-2011 Germany müşterileri üzerinden türetiniz.\n",
    "\n",
    "\n",
    "Kullanıcı 1’in sepetinde bulunan ürünün id'si: 21987\n",
    "\n",
    "Kullanıcı 2’in sepetinde bulunan ürünün id'si : 23235\n",
    "\n",
    "Kullanıcı 3’in sepetinde bulunan ürünün id'si : 22747"
   ]
  },
  {
   "cell_type": "markdown",
   "metadata": {},
   "source": [
    "# Veri Seti Hikayesi"
   ]
  },
  {
   "cell_type": "markdown",
   "metadata": {},
   "source": [
    "Online Retail II isimli veri seti İngiltere merkezli bir perakende şirketinin 01/12/2009 - 09/12/2011 tarihleri arasındaki online satış işlemlerini içeriyor Şirketin ürün kataloğunda hediyelik eşyalar yer almaktadır ve çoğu müşterisinin toptancı olduğu bilgisi mevcuttur."
   ]
  },
  {
   "cell_type": "markdown",
   "metadata": {},
   "source": [
    "# Görev 1: Veriyi Hazırlama"
   ]
  },
  {
   "cell_type": "markdown",
   "metadata": {},
   "source": [
    "### Adım 1:\n",
    "Online Retail II veri setinden 2010-2011 sheet’ini okutunuz."
   ]
  },
  {
   "cell_type": "code",
   "execution_count": 3,
   "metadata": {},
   "outputs": [
    {
     "data": {
      "text/html": [
       "<div>\n",
       "<style scoped>\n",
       "    .dataframe tbody tr th:only-of-type {\n",
       "        vertical-align: middle;\n",
       "    }\n",
       "\n",
       "    .dataframe tbody tr th {\n",
       "        vertical-align: top;\n",
       "    }\n",
       "\n",
       "    .dataframe thead th {\n",
       "        text-align: right;\n",
       "    }\n",
       "</style>\n",
       "<table border=\"1\" class=\"dataframe\">\n",
       "  <thead>\n",
       "    <tr style=\"text-align: right;\">\n",
       "      <th></th>\n",
       "      <th>Invoice</th>\n",
       "      <th>StockCode</th>\n",
       "      <th>Description</th>\n",
       "      <th>Quantity</th>\n",
       "      <th>InvoiceDate</th>\n",
       "      <th>Price</th>\n",
       "      <th>Customer ID</th>\n",
       "      <th>Country</th>\n",
       "    </tr>\n",
       "  </thead>\n",
       "  <tbody>\n",
       "    <tr>\n",
       "      <th>0</th>\n",
       "      <td>536365</td>\n",
       "      <td>85123A</td>\n",
       "      <td>WHITE HANGING HEART T-LIGHT HOLDER</td>\n",
       "      <td>6</td>\n",
       "      <td>2010-12-01 08:26:00</td>\n",
       "      <td>2.55</td>\n",
       "      <td>17850.0</td>\n",
       "      <td>United Kingdom</td>\n",
       "    </tr>\n",
       "    <tr>\n",
       "      <th>1</th>\n",
       "      <td>536365</td>\n",
       "      <td>71053</td>\n",
       "      <td>WHITE METAL LANTERN</td>\n",
       "      <td>6</td>\n",
       "      <td>2010-12-01 08:26:00</td>\n",
       "      <td>3.39</td>\n",
       "      <td>17850.0</td>\n",
       "      <td>United Kingdom</td>\n",
       "    </tr>\n",
       "    <tr>\n",
       "      <th>2</th>\n",
       "      <td>536365</td>\n",
       "      <td>84406B</td>\n",
       "      <td>CREAM CUPID HEARTS COAT HANGER</td>\n",
       "      <td>8</td>\n",
       "      <td>2010-12-01 08:26:00</td>\n",
       "      <td>2.75</td>\n",
       "      <td>17850.0</td>\n",
       "      <td>United Kingdom</td>\n",
       "    </tr>\n",
       "    <tr>\n",
       "      <th>3</th>\n",
       "      <td>536365</td>\n",
       "      <td>84029G</td>\n",
       "      <td>KNITTED UNION FLAG HOT WATER BOTTLE</td>\n",
       "      <td>6</td>\n",
       "      <td>2010-12-01 08:26:00</td>\n",
       "      <td>3.39</td>\n",
       "      <td>17850.0</td>\n",
       "      <td>United Kingdom</td>\n",
       "    </tr>\n",
       "    <tr>\n",
       "      <th>4</th>\n",
       "      <td>536365</td>\n",
       "      <td>84029E</td>\n",
       "      <td>RED WOOLLY HOTTIE WHITE HEART.</td>\n",
       "      <td>6</td>\n",
       "      <td>2010-12-01 08:26:00</td>\n",
       "      <td>3.39</td>\n",
       "      <td>17850.0</td>\n",
       "      <td>United Kingdom</td>\n",
       "    </tr>\n",
       "  </tbody>\n",
       "</table>\n",
       "</div>"
      ],
      "text/plain": [
       "  Invoice StockCode                          Description  Quantity  \\\n",
       "0  536365    85123A   WHITE HANGING HEART T-LIGHT HOLDER         6   \n",
       "1  536365     71053                  WHITE METAL LANTERN         6   \n",
       "2  536365    84406B       CREAM CUPID HEARTS COAT HANGER         8   \n",
       "3  536365    84029G  KNITTED UNION FLAG HOT WATER BOTTLE         6   \n",
       "4  536365    84029E       RED WOOLLY HOTTIE WHITE HEART.         6   \n",
       "\n",
       "          InvoiceDate  Price  Customer ID         Country  \n",
       "0 2010-12-01 08:26:00   2.55      17850.0  United Kingdom  \n",
       "1 2010-12-01 08:26:00   3.39      17850.0  United Kingdom  \n",
       "2 2010-12-01 08:26:00   2.75      17850.0  United Kingdom  \n",
       "3 2010-12-01 08:26:00   3.39      17850.0  United Kingdom  \n",
       "4 2010-12-01 08:26:00   3.39      17850.0  United Kingdom  "
      ]
     },
     "execution_count": 3,
     "metadata": {},
     "output_type": "execute_result"
    }
   ],
   "source": [
    "import pandas as pd\n",
    "df_ = pd.read_excel('/Users/mericgenc/Desktop/Python - Data Science/Miuul Data Scientist Path/04 - Recommendation Systems/00_datasets/online_retail_II.xlsx', sheet_name='Year 2010-2011')\n",
    "df = df_.copy()\n",
    "df.head()"
   ]
  },
  {
   "cell_type": "code",
   "execution_count": 10,
   "metadata": {},
   "outputs": [
    {
     "data": {
      "text/plain": [
       "(541910, 8)"
      ]
     },
     "execution_count": 10,
     "metadata": {},
     "output_type": "execute_result"
    }
   ],
   "source": [
    "df.shape"
   ]
  },
  {
   "cell_type": "markdown",
   "metadata": {},
   "source": [
    "### Adım 2:\n",
    "StockCode’u POST olan gözlem birimlerini drop ediniz. (POST her faturaya eklenen bedel, ürünü ifade etmemektedir.)"
   ]
  },
  {
   "cell_type": "code",
   "execution_count": 12,
   "metadata": {},
   "outputs": [],
   "source": [
    "df = df[~(df['StockCode']=='POST')]"
   ]
  },
  {
   "cell_type": "markdown",
   "metadata": {},
   "source": [
    "### Adım 3:\n",
    "Boş değer içeren gözlem birimlerini drop ediniz."
   ]
  },
  {
   "cell_type": "code",
   "execution_count": 15,
   "metadata": {},
   "outputs": [
    {
     "data": {
      "text/plain": [
       "Invoice             0\n",
       "StockCode           0\n",
       "Description      1450\n",
       "Quantity            0\n",
       "InvoiceDate         0\n",
       "Price               0\n",
       "Customer ID    135020\n",
       "Country             0\n",
       "dtype: int64"
      ]
     },
     "execution_count": 15,
     "metadata": {},
     "output_type": "execute_result"
    }
   ],
   "source": [
    "df.isna().sum()"
   ]
  },
  {
   "cell_type": "code",
   "execution_count": 18,
   "metadata": {},
   "outputs": [
    {
     "name": "stderr",
     "output_type": "stream",
     "text": [
      "/var/folders/r8/5249pssn4211ttm2__jhd09h0000gn/T/ipykernel_21378/1379821321.py:1: SettingWithCopyWarning: \n",
      "A value is trying to be set on a copy of a slice from a DataFrame\n",
      "\n",
      "See the caveats in the documentation: https://pandas.pydata.org/pandas-docs/stable/user_guide/indexing.html#returning-a-view-versus-a-copy\n",
      "  df.dropna(inplace=True)\n"
     ]
    }
   ],
   "source": [
    "df.dropna(inplace=True)"
   ]
  },
  {
   "cell_type": "code",
   "execution_count": 19,
   "metadata": {},
   "outputs": [
    {
     "data": {
      "text/plain": [
       "Invoice        0\n",
       "StockCode      0\n",
       "Description    0\n",
       "Quantity       0\n",
       "InvoiceDate    0\n",
       "Price          0\n",
       "Customer ID    0\n",
       "Country        0\n",
       "dtype: int64"
      ]
     },
     "execution_count": 19,
     "metadata": {},
     "output_type": "execute_result"
    }
   ],
   "source": [
    "df.isna().sum()"
   ]
  },
  {
   "cell_type": "markdown",
   "metadata": {},
   "source": [
    "### Adım 4:\n",
    "Invoice içerisinde C bulunan değerleri veri setinden çıkarınız. (C faturanın iptalini ifade etmektedir.)"
   ]
  },
  {
   "cell_type": "code",
   "execution_count": 34,
   "metadata": {},
   "outputs": [],
   "source": [
    "df = df[~(df['Invoice'].str.contains('C')==True)]"
   ]
  },
  {
   "cell_type": "markdown",
   "metadata": {},
   "source": [
    "### Adım 5:\n",
    "Price değeri sıfırdan küçük olan gözlem birimlerini filtreleyiniz."
   ]
  },
  {
   "cell_type": "code",
   "execution_count": 37,
   "metadata": {},
   "outputs": [
    {
     "data": {
      "text/html": [
       "<div>\n",
       "<style scoped>\n",
       "    .dataframe tbody tr th:only-of-type {\n",
       "        vertical-align: middle;\n",
       "    }\n",
       "\n",
       "    .dataframe tbody tr th {\n",
       "        vertical-align: top;\n",
       "    }\n",
       "\n",
       "    .dataframe thead th {\n",
       "        text-align: right;\n",
       "    }\n",
       "</style>\n",
       "<table border=\"1\" class=\"dataframe\">\n",
       "  <thead>\n",
       "    <tr style=\"text-align: right;\">\n",
       "      <th></th>\n",
       "      <th>Invoice</th>\n",
       "      <th>StockCode</th>\n",
       "      <th>Description</th>\n",
       "      <th>Quantity</th>\n",
       "      <th>InvoiceDate</th>\n",
       "      <th>Price</th>\n",
       "      <th>Customer ID</th>\n",
       "      <th>Country</th>\n",
       "    </tr>\n",
       "  </thead>\n",
       "  <tbody>\n",
       "  </tbody>\n",
       "</table>\n",
       "</div>"
      ],
      "text/plain": [
       "Empty DataFrame\n",
       "Columns: [Invoice, StockCode, Description, Quantity, InvoiceDate, Price, Customer ID, Country]\n",
       "Index: []"
      ]
     },
     "execution_count": 37,
     "metadata": {},
     "output_type": "execute_result"
    }
   ],
   "source": [
    "df[df['Price']<0]"
   ]
  },
  {
   "cell_type": "markdown",
   "metadata": {},
   "source": [
    "### Adım 6:\n",
    "Price ve Quantity değişkenlerinin aykırı değerlerini inceleyiniz, gerekirse baskılayınız."
   ]
  },
  {
   "cell_type": "code",
   "execution_count": 40,
   "metadata": {},
   "outputs": [
    {
     "data": {
      "text/html": [
       "<div>\n",
       "<style scoped>\n",
       "    .dataframe tbody tr th:only-of-type {\n",
       "        vertical-align: middle;\n",
       "    }\n",
       "\n",
       "    .dataframe tbody tr th {\n",
       "        vertical-align: top;\n",
       "    }\n",
       "\n",
       "    .dataframe thead th {\n",
       "        text-align: right;\n",
       "    }\n",
       "</style>\n",
       "<table border=\"1\" class=\"dataframe\">\n",
       "  <thead>\n",
       "    <tr style=\"text-align: right;\">\n",
       "      <th></th>\n",
       "      <th>count</th>\n",
       "      <th>mean</th>\n",
       "      <th>std</th>\n",
       "      <th>min</th>\n",
       "      <th>25%</th>\n",
       "      <th>50%</th>\n",
       "      <th>75%</th>\n",
       "      <th>max</th>\n",
       "    </tr>\n",
       "  </thead>\n",
       "  <tbody>\n",
       "    <tr>\n",
       "      <th>Quantity</th>\n",
       "      <td>396825.0</td>\n",
       "      <td>13.050025</td>\n",
       "      <td>180.669041</td>\n",
       "      <td>1.0</td>\n",
       "      <td>2.00</td>\n",
       "      <td>6.00</td>\n",
       "      <td>12.00</td>\n",
       "      <td>80995.00</td>\n",
       "    </tr>\n",
       "    <tr>\n",
       "      <th>Price</th>\n",
       "      <td>396825.0</td>\n",
       "      <td>3.037371</td>\n",
       "      <td>17.828868</td>\n",
       "      <td>0.0</td>\n",
       "      <td>1.25</td>\n",
       "      <td>1.95</td>\n",
       "      <td>3.75</td>\n",
       "      <td>4161.06</td>\n",
       "    </tr>\n",
       "    <tr>\n",
       "      <th>Customer ID</th>\n",
       "      <td>396825.0</td>\n",
       "      <td>15301.354595</td>\n",
       "      <td>1709.881541</td>\n",
       "      <td>12346.0</td>\n",
       "      <td>13975.00</td>\n",
       "      <td>15159.00</td>\n",
       "      <td>16801.00</td>\n",
       "      <td>18287.00</td>\n",
       "    </tr>\n",
       "  </tbody>\n",
       "</table>\n",
       "</div>"
      ],
      "text/plain": [
       "                count          mean          std      min       25%       50%  \\\n",
       "Quantity     396825.0     13.050025   180.669041      1.0      2.00      6.00   \n",
       "Price        396825.0      3.037371    17.828868      0.0      1.25      1.95   \n",
       "Customer ID  396825.0  15301.354595  1709.881541  12346.0  13975.00  15159.00   \n",
       "\n",
       "                  75%       max  \n",
       "Quantity        12.00  80995.00  \n",
       "Price            3.75   4161.06  \n",
       "Customer ID  16801.00  18287.00  "
      ]
     },
     "execution_count": 40,
     "metadata": {},
     "output_type": "execute_result"
    }
   ],
   "source": [
    "df.describe().T"
   ]
  },
  {
   "cell_type": "code",
   "execution_count": 52,
   "metadata": {},
   "outputs": [
    {
     "data": {
      "image/png": "[encoded data removed]",
      "text/plain": [
       "<Figure size 1440x640 with 2 Axes>"
      ]
     },
     "metadata": {
      "needs_background": "light"
     },
     "output_type": "display_data"
    }
   ],
   "source": [
    "import seaborn as sns\n",
    "import matplotlib.pyplot as plt\n",
    "plt.figure(figsize=(18, 8), dpi=80)\n",
    "plt.subplot(1, 2, 1)\n",
    "sns.boxplot(x=df[\"Price\"])\n",
    "plt.title('Price Outliers')\n",
    "plt.subplot(1, 2, 2)\n",
    "sns.boxplot(x=df[\"Quantity\"])\n",
    "plt.title('Quantity Outliers')\n",
    "plt.show()"
   ]
  },
  {
   "cell_type": "code",
   "execution_count": 53,
   "metadata": {},
   "outputs": [],
   "source": [
    "def outlier_thresholds(dataframe, variable):\n",
    "    quartile1 = dataframe[variable].quantile(0.01)\n",
    "    quartile3 = dataframe[variable].quantile(0.99)\n",
    "    interquantile_range = quartile3 - quartile1\n",
    "    up_limit = quartile3 + 1.5 * interquantile_range\n",
    "    low_limit = quartile1 - 1.5 * interquantile_range\n",
    "    return low_limit, up_limit\n",
    "\n",
    "def replace_with_thresholds(dataframe, variable):\n",
    "    low_limit, up_limit = outlier_thresholds(dataframe, variable)\n",
    "    dataframe.loc[(dataframe[variable] < low_limit), variable] = low_limit\n",
    "    dataframe.loc[(dataframe[variable] > up_limit), variable] = up_limit"
   ]
  },
  {
   "cell_type": "code",
   "execution_count": 54,
   "metadata": {},
   "outputs": [],
   "source": [
    "replace_with_thresholds(df, 'Price')\n",
    "replace_with_thresholds(df, 'Quantity')"
   ]
  },
  {
   "cell_type": "code",
   "execution_count": 56,
   "metadata": {},
   "outputs": [
    {
     "data": {
      "text/html": [
       "<div>\n",
       "<style scoped>\n",
       "    .dataframe tbody tr th:only-of-type {\n",
       "        vertical-align: middle;\n",
       "    }\n",
       "\n",
       "    .dataframe tbody tr th {\n",
       "        vertical-align: top;\n",
       "    }\n",
       "\n",
       "    .dataframe thead th {\n",
       "        text-align: right;\n",
       "    }\n",
       "</style>\n",
       "<table border=\"1\" class=\"dataframe\">\n",
       "  <thead>\n",
       "    <tr style=\"text-align: right;\">\n",
       "      <th></th>\n",
       "      <th>count</th>\n",
       "      <th>mean</th>\n",
       "      <th>std</th>\n",
       "      <th>min</th>\n",
       "      <th>25%</th>\n",
       "      <th>50%</th>\n",
       "      <th>75%</th>\n",
       "      <th>max</th>\n",
       "    </tr>\n",
       "  </thead>\n",
       "  <tbody>\n",
       "    <tr>\n",
       "      <th>Quantity</th>\n",
       "      <td>396825.0</td>\n",
       "      <td>11.858647</td>\n",
       "      <td>25.565206</td>\n",
       "      <td>1.0</td>\n",
       "      <td>2.00</td>\n",
       "      <td>6.00</td>\n",
       "      <td>12.00</td>\n",
       "      <td>298.50</td>\n",
       "    </tr>\n",
       "    <tr>\n",
       "      <th>Price</th>\n",
       "      <td>396825.0</td>\n",
       "      <td>2.835319</td>\n",
       "      <td>2.982356</td>\n",
       "      <td>0.0</td>\n",
       "      <td>1.25</td>\n",
       "      <td>1.95</td>\n",
       "      <td>3.75</td>\n",
       "      <td>31.56</td>\n",
       "    </tr>\n",
       "    <tr>\n",
       "      <th>Customer ID</th>\n",
       "      <td>396825.0</td>\n",
       "      <td>15301.354595</td>\n",
       "      <td>1709.881541</td>\n",
       "      <td>12346.0</td>\n",
       "      <td>13975.00</td>\n",
       "      <td>15159.00</td>\n",
       "      <td>16801.00</td>\n",
       "      <td>18287.00</td>\n",
       "    </tr>\n",
       "  </tbody>\n",
       "</table>\n",
       "</div>"
      ],
      "text/plain": [
       "                count          mean          std      min       25%       50%  \\\n",
       "Quantity     396825.0     11.858647    25.565206      1.0      2.00      6.00   \n",
       "Price        396825.0      2.835319     2.982356      0.0      1.25      1.95   \n",
       "Customer ID  396825.0  15301.354595  1709.881541  12346.0  13975.00  15159.00   \n",
       "\n",
       "                  75%       max  \n",
       "Quantity        12.00    298.50  \n",
       "Price            3.75     31.56  \n",
       "Customer ID  16801.00  18287.00  "
      ]
     },
     "execution_count": 56,
     "metadata": {},
     "output_type": "execute_result"
    }
   ],
   "source": [
    "df.describe().T"
   ]
  },
  {
   "cell_type": "code",
   "execution_count": 55,
   "metadata": {},
   "outputs": [
    {
     "data": {
      "image/png": "[encoded data removed]",
      "text/plain": [
       "<Figure size 1440x640 with 2 Axes>"
      ]
     },
     "metadata": {
      "needs_background": "light"
     },
     "output_type": "display_data"
    }
   ],
   "source": [
    "plt.figure(figsize=(18, 8), dpi=80)\n",
    "plt.subplot(1, 2, 1)\n",
    "sns.boxplot(x=df[\"Price\"])\n",
    "plt.subplot(1, 2, 2)\n",
    "sns.boxplot(x=df[\"Quantity\"])\n",
    "plt.show()"
   ]
  },
  {
   "cell_type": "markdown",
   "metadata": {},
   "source": [
    "# Görev 2: Alman Müşteriler Üzerinden Birliktelik Kuralları Üretme"
   ]
  },
  {
   "cell_type": "markdown",
   "metadata": {},
   "source": [
    "### Adım 1:\n",
    "Aşağıdaki gibi fatura ürün pivot table’i oluşturacak create_invoice_product_df fonksiyonunu tanımlayınız."
   ]
  },
  {
   "cell_type": "markdown",
   "metadata": {},
   "source": [
    "\n",
    "###### Description NINE DRAWER OFFICE TIDY SET 2 TEA TOWELS I LOVE LONDON SPACEBOY BABY GIFT SET…\n",
    "\n",
    "###### Invoice\n",
    "\n",
    "###### 536370 0 1 0\n",
    "\n",
    "###### 536852 1 0 1\n",
    "\n",
    "###### 536974 0 0 0\n",
    "\n",
    "###### 537065 1 0 0\n",
    "\n",
    "###### 537463 0 0 1"
   ]
  },
  {
   "cell_type": "code",
   "execution_count": 87,
   "metadata": {},
   "outputs": [],
   "source": [
    "def create_invoice_product_df(dataframe, id=False):\n",
    "    if id:\n",
    "        return dataframe.pivot_table(index='Invoice', columns='StockCode', values='Quantity').fillna(False). \\\n",
    "            applymap(lambda x: True if x > 0 else False)\n",
    "    else:\n",
    "        return dataframe.pivot_table(index='Invoice', columns='Description', values='Quantity').fillna(False). \\\n",
    "            applymap(lambda x: True if x > 0 else False)"
   ]
  },
  {
   "cell_type": "code",
   "execution_count": 89,
   "metadata": {},
   "outputs": [],
   "source": [
    "df_ger = df[df['Country']=='Germany']"
   ]
  },
  {
   "cell_type": "code",
   "execution_count": 91,
   "metadata": {},
   "outputs": [
    {
     "data": {
      "text/html": [
       "<div>\n",
       "<style scoped>\n",
       "    .dataframe tbody tr th:only-of-type {\n",
       "        vertical-align: middle;\n",
       "    }\n",
       "\n",
       "    .dataframe tbody tr th {\n",
       "        vertical-align: top;\n",
       "    }\n",
       "\n",
       "    .dataframe thead th {\n",
       "        text-align: right;\n",
       "    }\n",
       "</style>\n",
       "<table border=\"1\" class=\"dataframe\">\n",
       "  <thead>\n",
       "    <tr style=\"text-align: right;\">\n",
       "      <th>Description</th>\n",
       "      <th>50'S CHRISTMAS GIFT BAG LARGE</th>\n",
       "      <th>DOLLY GIRL BEAKER</th>\n",
       "      <th>I LOVE LONDON MINI BACKPACK</th>\n",
       "      <th>RED SPOT GIFT BAG LARGE</th>\n",
       "      <th>SET 2 TEA TOWELS I LOVE LONDON</th>\n",
       "      <th>SPACEBOY BABY GIFT SET</th>\n",
       "      <th>10 COLOUR SPACEBOY PEN</th>\n",
       "      <th>12 COLOURED PARTY BALLOONS</th>\n",
       "      <th>12 IVORY ROSE PEG PLACE SETTINGS</th>\n",
       "      <th>12 MESSAGE CARDS WITH ENVELOPES</th>\n",
       "      <th>...</th>\n",
       "      <th>YULETIDE IMAGES GIFT WRAP SET</th>\n",
       "      <th>ZINC  HEART T-LIGHT HOLDER</th>\n",
       "      <th>ZINC  STAR T-LIGHT HOLDER</th>\n",
       "      <th>ZINC BOX SIGN HOME</th>\n",
       "      <th>ZINC FOLKART SLEIGH BELLS</th>\n",
       "      <th>ZINC HEART LATTICE T-LIGHT HOLDER</th>\n",
       "      <th>ZINC METAL HEART DECORATION</th>\n",
       "      <th>ZINC T-LIGHT HOLDER STAR LARGE</th>\n",
       "      <th>ZINC T-LIGHT HOLDER STARS SMALL</th>\n",
       "      <th>ZINC WILLIE WINKIE  CANDLE STICK</th>\n",
       "    </tr>\n",
       "    <tr>\n",
       "      <th>Invoice</th>\n",
       "      <th></th>\n",
       "      <th></th>\n",
       "      <th></th>\n",
       "      <th></th>\n",
       "      <th></th>\n",
       "      <th></th>\n",
       "      <th></th>\n",
       "      <th></th>\n",
       "      <th></th>\n",
       "      <th></th>\n",
       "      <th></th>\n",
       "      <th></th>\n",
       "      <th></th>\n",
       "      <th></th>\n",
       "      <th></th>\n",
       "      <th></th>\n",
       "      <th></th>\n",
       "      <th></th>\n",
       "      <th></th>\n",
       "      <th></th>\n",
       "      <th></th>\n",
       "    </tr>\n",
       "  </thead>\n",
       "  <tbody>\n",
       "    <tr>\n",
       "      <th>536527</th>\n",
       "      <td>False</td>\n",
       "      <td>False</td>\n",
       "      <td>False</td>\n",
       "      <td>False</td>\n",
       "      <td>False</td>\n",
       "      <td>False</td>\n",
       "      <td>False</td>\n",
       "      <td>False</td>\n",
       "      <td>False</td>\n",
       "      <td>False</td>\n",
       "      <td>...</td>\n",
       "      <td>False</td>\n",
       "      <td>False</td>\n",
       "      <td>False</td>\n",
       "      <td>False</td>\n",
       "      <td>False</td>\n",
       "      <td>False</td>\n",
       "      <td>False</td>\n",
       "      <td>False</td>\n",
       "      <td>False</td>\n",
       "      <td>False</td>\n",
       "    </tr>\n",
       "    <tr>\n",
       "      <th>536840</th>\n",
       "      <td>False</td>\n",
       "      <td>False</td>\n",
       "      <td>False</td>\n",
       "      <td>False</td>\n",
       "      <td>False</td>\n",
       "      <td>False</td>\n",
       "      <td>False</td>\n",
       "      <td>False</td>\n",
       "      <td>False</td>\n",
       "      <td>False</td>\n",
       "      <td>...</td>\n",
       "      <td>False</td>\n",
       "      <td>False</td>\n",
       "      <td>False</td>\n",
       "      <td>False</td>\n",
       "      <td>False</td>\n",
       "      <td>False</td>\n",
       "      <td>False</td>\n",
       "      <td>False</td>\n",
       "      <td>False</td>\n",
       "      <td>False</td>\n",
       "    </tr>\n",
       "    <tr>\n",
       "      <th>536861</th>\n",
       "      <td>False</td>\n",
       "      <td>False</td>\n",
       "      <td>False</td>\n",
       "      <td>False</td>\n",
       "      <td>False</td>\n",
       "      <td>False</td>\n",
       "      <td>False</td>\n",
       "      <td>False</td>\n",
       "      <td>False</td>\n",
       "      <td>False</td>\n",
       "      <td>...</td>\n",
       "      <td>False</td>\n",
       "      <td>False</td>\n",
       "      <td>False</td>\n",
       "      <td>False</td>\n",
       "      <td>False</td>\n",
       "      <td>False</td>\n",
       "      <td>False</td>\n",
       "      <td>False</td>\n",
       "      <td>False</td>\n",
       "      <td>False</td>\n",
       "    </tr>\n",
       "    <tr>\n",
       "      <th>536967</th>\n",
       "      <td>False</td>\n",
       "      <td>False</td>\n",
       "      <td>False</td>\n",
       "      <td>False</td>\n",
       "      <td>False</td>\n",
       "      <td>False</td>\n",
       "      <td>False</td>\n",
       "      <td>False</td>\n",
       "      <td>False</td>\n",
       "      <td>False</td>\n",
       "      <td>...</td>\n",
       "      <td>False</td>\n",
       "      <td>False</td>\n",
       "      <td>False</td>\n",
       "      <td>False</td>\n",
       "      <td>False</td>\n",
       "      <td>False</td>\n",
       "      <td>False</td>\n",
       "      <td>False</td>\n",
       "      <td>False</td>\n",
       "      <td>False</td>\n",
       "    </tr>\n",
       "    <tr>\n",
       "      <th>536983</th>\n",
       "      <td>False</td>\n",
       "      <td>False</td>\n",
       "      <td>False</td>\n",
       "      <td>False</td>\n",
       "      <td>False</td>\n",
       "      <td>False</td>\n",
       "      <td>False</td>\n",
       "      <td>False</td>\n",
       "      <td>False</td>\n",
       "      <td>False</td>\n",
       "      <td>...</td>\n",
       "      <td>False</td>\n",
       "      <td>False</td>\n",
       "      <td>False</td>\n",
       "      <td>False</td>\n",
       "      <td>False</td>\n",
       "      <td>False</td>\n",
       "      <td>False</td>\n",
       "      <td>False</td>\n",
       "      <td>False</td>\n",
       "      <td>False</td>\n",
       "    </tr>\n",
       "    <tr>\n",
       "      <th>...</th>\n",
       "      <td>...</td>\n",
       "      <td>...</td>\n",
       "      <td>...</td>\n",
       "      <td>...</td>\n",
       "      <td>...</td>\n",
       "      <td>...</td>\n",
       "      <td>...</td>\n",
       "      <td>...</td>\n",
       "      <td>...</td>\n",
       "      <td>...</td>\n",
       "      <td>...</td>\n",
       "      <td>...</td>\n",
       "      <td>...</td>\n",
       "      <td>...</td>\n",
       "      <td>...</td>\n",
       "      <td>...</td>\n",
       "      <td>...</td>\n",
       "      <td>...</td>\n",
       "      <td>...</td>\n",
       "      <td>...</td>\n",
       "      <td>...</td>\n",
       "    </tr>\n",
       "    <tr>\n",
       "      <th>581266</th>\n",
       "      <td>False</td>\n",
       "      <td>False</td>\n",
       "      <td>False</td>\n",
       "      <td>False</td>\n",
       "      <td>False</td>\n",
       "      <td>False</td>\n",
       "      <td>False</td>\n",
       "      <td>False</td>\n",
       "      <td>False</td>\n",
       "      <td>False</td>\n",
       "      <td>...</td>\n",
       "      <td>False</td>\n",
       "      <td>False</td>\n",
       "      <td>False</td>\n",
       "      <td>False</td>\n",
       "      <td>False</td>\n",
       "      <td>False</td>\n",
       "      <td>False</td>\n",
       "      <td>False</td>\n",
       "      <td>False</td>\n",
       "      <td>False</td>\n",
       "    </tr>\n",
       "    <tr>\n",
       "      <th>581494</th>\n",
       "      <td>False</td>\n",
       "      <td>False</td>\n",
       "      <td>False</td>\n",
       "      <td>False</td>\n",
       "      <td>False</td>\n",
       "      <td>False</td>\n",
       "      <td>False</td>\n",
       "      <td>False</td>\n",
       "      <td>False</td>\n",
       "      <td>False</td>\n",
       "      <td>...</td>\n",
       "      <td>False</td>\n",
       "      <td>False</td>\n",
       "      <td>False</td>\n",
       "      <td>False</td>\n",
       "      <td>False</td>\n",
       "      <td>False</td>\n",
       "      <td>False</td>\n",
       "      <td>False</td>\n",
       "      <td>False</td>\n",
       "      <td>False</td>\n",
       "    </tr>\n",
       "    <tr>\n",
       "      <th>581570</th>\n",
       "      <td>False</td>\n",
       "      <td>False</td>\n",
       "      <td>False</td>\n",
       "      <td>False</td>\n",
       "      <td>False</td>\n",
       "      <td>False</td>\n",
       "      <td>False</td>\n",
       "      <td>False</td>\n",
       "      <td>False</td>\n",
       "      <td>False</td>\n",
       "      <td>...</td>\n",
       "      <td>False</td>\n",
       "      <td>False</td>\n",
       "      <td>False</td>\n",
       "      <td>False</td>\n",
       "      <td>False</td>\n",
       "      <td>False</td>\n",
       "      <td>False</td>\n",
       "      <td>False</td>\n",
       "      <td>False</td>\n",
       "      <td>False</td>\n",
       "    </tr>\n",
       "    <tr>\n",
       "      <th>581574</th>\n",
       "      <td>False</td>\n",
       "      <td>False</td>\n",
       "      <td>False</td>\n",
       "      <td>False</td>\n",
       "      <td>False</td>\n",
       "      <td>False</td>\n",
       "      <td>False</td>\n",
       "      <td>False</td>\n",
       "      <td>False</td>\n",
       "      <td>False</td>\n",
       "      <td>...</td>\n",
       "      <td>False</td>\n",
       "      <td>False</td>\n",
       "      <td>False</td>\n",
       "      <td>False</td>\n",
       "      <td>False</td>\n",
       "      <td>False</td>\n",
       "      <td>False</td>\n",
       "      <td>False</td>\n",
       "      <td>False</td>\n",
       "      <td>False</td>\n",
       "    </tr>\n",
       "    <tr>\n",
       "      <th>581578</th>\n",
       "      <td>False</td>\n",
       "      <td>False</td>\n",
       "      <td>False</td>\n",
       "      <td>False</td>\n",
       "      <td>False</td>\n",
       "      <td>False</td>\n",
       "      <td>False</td>\n",
       "      <td>False</td>\n",
       "      <td>False</td>\n",
       "      <td>False</td>\n",
       "      <td>...</td>\n",
       "      <td>False</td>\n",
       "      <td>False</td>\n",
       "      <td>False</td>\n",
       "      <td>False</td>\n",
       "      <td>False</td>\n",
       "      <td>False</td>\n",
       "      <td>False</td>\n",
       "      <td>False</td>\n",
       "      <td>False</td>\n",
       "      <td>False</td>\n",
       "    </tr>\n",
       "  </tbody>\n",
       "</table>\n",
       "<p>449 rows × 1696 columns</p>\n",
       "</div>"
      ],
      "text/plain": [
       "Description   50'S CHRISTMAS GIFT BAG LARGE   DOLLY GIRL BEAKER  \\\n",
       "Invoice                                                           \n",
       "536527                                False               False   \n",
       "536840                                False               False   \n",
       "536861                                False               False   \n",
       "536967                                False               False   \n",
       "536983                                False               False   \n",
       "...                                     ...                 ...   \n",
       "581266                                False               False   \n",
       "581494                                False               False   \n",
       "581570                                False               False   \n",
       "581574                                False               False   \n",
       "581578                                False               False   \n",
       "\n",
       "Description   I LOVE LONDON MINI BACKPACK   RED SPOT GIFT BAG LARGE  \\\n",
       "Invoice                                                               \n",
       "536527                              False                     False   \n",
       "536840                              False                     False   \n",
       "536861                              False                     False   \n",
       "536967                              False                     False   \n",
       "536983                              False                     False   \n",
       "...                                   ...                       ...   \n",
       "581266                              False                     False   \n",
       "581494                              False                     False   \n",
       "581570                              False                     False   \n",
       "581574                              False                     False   \n",
       "581578                              False                     False   \n",
       "\n",
       "Description   SET 2 TEA TOWELS I LOVE LONDON    SPACEBOY BABY GIFT SET  \\\n",
       "Invoice                                                                  \n",
       "536527                                  False                    False   \n",
       "536840                                  False                    False   \n",
       "536861                                  False                    False   \n",
       "536967                                  False                    False   \n",
       "536983                                  False                    False   \n",
       "...                                       ...                      ...   \n",
       "581266                                  False                    False   \n",
       "581494                                  False                    False   \n",
       "581570                                  False                    False   \n",
       "581574                                  False                    False   \n",
       "581578                                  False                    False   \n",
       "\n",
       "Description  10 COLOUR SPACEBOY PEN  12 COLOURED PARTY BALLOONS  \\\n",
       "Invoice                                                           \n",
       "536527                        False                       False   \n",
       "536840                        False                       False   \n",
       "536861                        False                       False   \n",
       "536967                        False                       False   \n",
       "536983                        False                       False   \n",
       "...                             ...                         ...   \n",
       "581266                        False                       False   \n",
       "581494                        False                       False   \n",
       "581570                        False                       False   \n",
       "581574                        False                       False   \n",
       "581578                        False                       False   \n",
       "\n",
       "Description  12 IVORY ROSE PEG PLACE SETTINGS  \\\n",
       "Invoice                                         \n",
       "536527                                  False   \n",
       "536840                                  False   \n",
       "536861                                  False   \n",
       "536967                                  False   \n",
       "536983                                  False   \n",
       "...                                       ...   \n",
       "581266                                  False   \n",
       "581494                                  False   \n",
       "581570                                  False   \n",
       "581574                                  False   \n",
       "581578                                  False   \n",
       "\n",
       "Description  12 MESSAGE CARDS WITH ENVELOPES  ...  \\\n",
       "Invoice                                       ...   \n",
       "536527                                 False  ...   \n",
       "536840                                 False  ...   \n",
       "536861                                 False  ...   \n",
       "536967                                 False  ...   \n",
       "536983                                 False  ...   \n",
       "...                                      ...  ...   \n",
       "581266                                 False  ...   \n",
       "581494                                 False  ...   \n",
       "581570                                 False  ...   \n",
       "581574                                 False  ...   \n",
       "581578                                 False  ...   \n",
       "\n",
       "Description  YULETIDE IMAGES GIFT WRAP SET  ZINC  HEART T-LIGHT HOLDER  \\\n",
       "Invoice                                                                  \n",
       "536527                               False                       False   \n",
       "536840                               False                       False   \n",
       "536861                               False                       False   \n",
       "536967                               False                       False   \n",
       "536983                               False                       False   \n",
       "...                                    ...                         ...   \n",
       "581266                               False                       False   \n",
       "581494                               False                       False   \n",
       "581570                               False                       False   \n",
       "581574                               False                       False   \n",
       "581578                               False                       False   \n",
       "\n",
       "Description  ZINC  STAR T-LIGHT HOLDER   ZINC BOX SIGN HOME  \\\n",
       "Invoice                                                       \n",
       "536527                            False               False   \n",
       "536840                            False               False   \n",
       "536861                            False               False   \n",
       "536967                            False               False   \n",
       "536983                            False               False   \n",
       "...                                 ...                 ...   \n",
       "581266                            False               False   \n",
       "581494                            False               False   \n",
       "581570                            False               False   \n",
       "581574                            False               False   \n",
       "581578                            False               False   \n",
       "\n",
       "Description  ZINC FOLKART SLEIGH BELLS  ZINC HEART LATTICE T-LIGHT HOLDER  \\\n",
       "Invoice                                                                     \n",
       "536527                           False                              False   \n",
       "536840                           False                              False   \n",
       "536861                           False                              False   \n",
       "536967                           False                              False   \n",
       "536983                           False                              False   \n",
       "...                                ...                                ...   \n",
       "581266                           False                              False   \n",
       "581494                           False                              False   \n",
       "581570                           False                              False   \n",
       "581574                           False                              False   \n",
       "581578                           False                              False   \n",
       "\n",
       "Description  ZINC METAL HEART DECORATION  ZINC T-LIGHT HOLDER STAR LARGE  \\\n",
       "Invoice                                                                    \n",
       "536527                             False                           False   \n",
       "536840                             False                           False   \n",
       "536861                             False                           False   \n",
       "536967                             False                           False   \n",
       "536983                             False                           False   \n",
       "...                                  ...                             ...   \n",
       "581266                             False                           False   \n",
       "581494                             False                           False   \n",
       "581570                             False                           False   \n",
       "581574                             False                           False   \n",
       "581578                             False                           False   \n",
       "\n",
       "Description  ZINC T-LIGHT HOLDER STARS SMALL  ZINC WILLIE WINKIE  CANDLE STICK  \n",
       "Invoice                                                                         \n",
       "536527                                 False                             False  \n",
       "536840                                 False                             False  \n",
       "536861                                 False                             False  \n",
       "536967                                 False                             False  \n",
       "536983                                 False                             False  \n",
       "...                                      ...                               ...  \n",
       "581266                                 False                             False  \n",
       "581494                                 False                             False  \n",
       "581570                                 False                             False  \n",
       "581574                                 False                             False  \n",
       "581578                                 False                             False  \n",
       "\n",
       "[449 rows x 1696 columns]"
      ]
     },
     "execution_count": 91,
     "metadata": {},
     "output_type": "execute_result"
    }
   ],
   "source": [
    "ger_inv_pro_df = create_invoice_product_df(df_ger)\n",
    "ger_inv_pro_df"
   ]
  },
  {
   "cell_type": "markdown",
   "metadata": {},
   "source": [
    "### Adım 2:\n",
    "Kuralları oluşturacak create_rules fonksiyonunu tanımlayınız ve alman müşteriler için kurallarını bulunuz."
   ]
  },
  {
   "cell_type": "code",
   "execution_count": 92,
   "metadata": {},
   "outputs": [],
   "source": [
    "from mlxtend.frequent_patterns import apriori, association_rules"
   ]
  },
  {
   "cell_type": "code",
   "execution_count": 149,
   "metadata": {},
   "outputs": [],
   "source": [
    "def create_rules(dataframe, id=True, country=\"Germany\"):\n",
    "    dataframe = dataframe[dataframe['Country'] == country]\n",
    "    dataframe = create_invoice_product_df(dataframe, id)\n",
    "    frequent_itemsets = apriori(dataframe, min_support=0.01, use_colnames=True)\n",
    "    rules = association_rules(frequent_itemsets, metric=\"support\", min_threshold=0.01)\n",
    "    return rules"
   ]
  },
  {
   "cell_type": "code",
   "execution_count": 153,
   "metadata": {},
   "outputs": [],
   "source": [
    "rules = create_rules(df, id=False)"
   ]
  },
  {
   "cell_type": "code",
   "execution_count": 154,
   "metadata": {},
   "outputs": [
    {
     "data": {
      "text/html": [
       "<div>\n",
       "<style scoped>\n",
       "    .dataframe tbody tr th:only-of-type {\n",
       "        vertical-align: middle;\n",
       "    }\n",
       "\n",
       "    .dataframe tbody tr th {\n",
       "        vertical-align: top;\n",
       "    }\n",
       "\n",
       "    .dataframe thead th {\n",
       "        text-align: right;\n",
       "    }\n",
       "</style>\n",
       "<table border=\"1\" class=\"dataframe\">\n",
       "  <thead>\n",
       "    <tr style=\"text-align: right;\">\n",
       "      <th></th>\n",
       "      <th>antecedents</th>\n",
       "      <th>consequents</th>\n",
       "      <th>antecedent support</th>\n",
       "      <th>consequent support</th>\n",
       "      <th>support</th>\n",
       "      <th>confidence</th>\n",
       "      <th>lift</th>\n",
       "      <th>leverage</th>\n",
       "      <th>conviction</th>\n",
       "    </tr>\n",
       "  </thead>\n",
       "  <tbody>\n",
       "    <tr>\n",
       "      <th>0</th>\n",
       "      <td>( DOLLY GIRL BEAKER)</td>\n",
       "      <td>(SPACEBOY BEAKER)</td>\n",
       "      <td>0.015590</td>\n",
       "      <td>0.024499</td>\n",
       "      <td>0.013363</td>\n",
       "      <td>0.857143</td>\n",
       "      <td>34.987013</td>\n",
       "      <td>0.012981</td>\n",
       "      <td>6.828508</td>\n",
       "    </tr>\n",
       "    <tr>\n",
       "      <th>1</th>\n",
       "      <td>(SPACEBOY BEAKER)</td>\n",
       "      <td>( DOLLY GIRL BEAKER)</td>\n",
       "      <td>0.024499</td>\n",
       "      <td>0.015590</td>\n",
       "      <td>0.013363</td>\n",
       "      <td>0.545455</td>\n",
       "      <td>34.987013</td>\n",
       "      <td>0.012981</td>\n",
       "      <td>2.165702</td>\n",
       "    </tr>\n",
       "    <tr>\n",
       "      <th>2</th>\n",
       "      <td>(LUNCH BAG APPLE DESIGN)</td>\n",
       "      <td>(10 COLOUR SPACEBOY PEN)</td>\n",
       "      <td>0.062361</td>\n",
       "      <td>0.024499</td>\n",
       "      <td>0.011136</td>\n",
       "      <td>0.178571</td>\n",
       "      <td>7.288961</td>\n",
       "      <td>0.009608</td>\n",
       "      <td>1.187567</td>\n",
       "    </tr>\n",
       "    <tr>\n",
       "      <th>3</th>\n",
       "      <td>(10 COLOUR SPACEBOY PEN)</td>\n",
       "      <td>(LUNCH BAG APPLE DESIGN)</td>\n",
       "      <td>0.024499</td>\n",
       "      <td>0.062361</td>\n",
       "      <td>0.011136</td>\n",
       "      <td>0.454545</td>\n",
       "      <td>7.288961</td>\n",
       "      <td>0.009608</td>\n",
       "      <td>1.719005</td>\n",
       "    </tr>\n",
       "    <tr>\n",
       "      <th>4</th>\n",
       "      <td>(SPACEBOY LUNCH BOX )</td>\n",
       "      <td>(10 COLOUR SPACEBOY PEN)</td>\n",
       "      <td>0.104677</td>\n",
       "      <td>0.024499</td>\n",
       "      <td>0.013363</td>\n",
       "      <td>0.127660</td>\n",
       "      <td>5.210832</td>\n",
       "      <td>0.010799</td>\n",
       "      <td>1.118257</td>\n",
       "    </tr>\n",
       "    <tr>\n",
       "      <th>...</th>\n",
       "      <td>...</td>\n",
       "      <td>...</td>\n",
       "      <td>...</td>\n",
       "      <td>...</td>\n",
       "      <td>...</td>\n",
       "      <td>...</td>\n",
       "      <td>...</td>\n",
       "      <td>...</td>\n",
       "      <td>...</td>\n",
       "    </tr>\n",
       "    <tr>\n",
       "      <th>17789</th>\n",
       "      <td>(ROUND SNACK BOXES SET OF4 WOODLAND )</td>\n",
       "      <td>(BLUE SPOT CERAMIC DRAWER KNOB, WHITE SPOT RED...</td>\n",
       "      <td>0.249443</td>\n",
       "      <td>0.015590</td>\n",
       "      <td>0.011136</td>\n",
       "      <td>0.044643</td>\n",
       "      <td>2.863520</td>\n",
       "      <td>0.007247</td>\n",
       "      <td>1.030410</td>\n",
       "    </tr>\n",
       "    <tr>\n",
       "      <th>17790</th>\n",
       "      <td>(WHITE SPOT RED CERAMIC DRAWER KNOB)</td>\n",
       "      <td>(BLUE SPOT CERAMIC DRAWER KNOB, ROUND SNACK BO...</td>\n",
       "      <td>0.053452</td>\n",
       "      <td>0.011136</td>\n",
       "      <td>0.011136</td>\n",
       "      <td>0.208333</td>\n",
       "      <td>18.708333</td>\n",
       "      <td>0.010541</td>\n",
       "      <td>1.249092</td>\n",
       "    </tr>\n",
       "    <tr>\n",
       "      <th>17791</th>\n",
       "      <td>(WHITE SPOT BLUE CERAMIC DRAWER KNOB)</td>\n",
       "      <td>(BLUE SPOT CERAMIC DRAWER KNOB, ROUND SNACK BO...</td>\n",
       "      <td>0.035635</td>\n",
       "      <td>0.013363</td>\n",
       "      <td>0.011136</td>\n",
       "      <td>0.312500</td>\n",
       "      <td>23.385417</td>\n",
       "      <td>0.010660</td>\n",
       "      <td>1.435108</td>\n",
       "    </tr>\n",
       "    <tr>\n",
       "      <th>17792</th>\n",
       "      <td>(RED STRIPE CERAMIC DRAWER KNOB)</td>\n",
       "      <td>(BLUE SPOT CERAMIC DRAWER KNOB, ROUND SNACK BO...</td>\n",
       "      <td>0.046771</td>\n",
       "      <td>0.011136</td>\n",
       "      <td>0.011136</td>\n",
       "      <td>0.238095</td>\n",
       "      <td>21.380952</td>\n",
       "      <td>0.010615</td>\n",
       "      <td>1.297884</td>\n",
       "    </tr>\n",
       "    <tr>\n",
       "      <th>17793</th>\n",
       "      <td>(RED SPOT CERAMIC DRAWER KNOB)</td>\n",
       "      <td>(BLUE SPOT CERAMIC DRAWER KNOB, ROUND SNACK BO...</td>\n",
       "      <td>0.031180</td>\n",
       "      <td>0.011136</td>\n",
       "      <td>0.011136</td>\n",
       "      <td>0.357143</td>\n",
       "      <td>32.071429</td>\n",
       "      <td>0.010789</td>\n",
       "      <td>1.538233</td>\n",
       "    </tr>\n",
       "  </tbody>\n",
       "</table>\n",
       "<p>17794 rows × 9 columns</p>\n",
       "</div>"
      ],
      "text/plain": [
       "                                 antecedents  \\\n",
       "0                       ( DOLLY GIRL BEAKER)   \n",
       "1                          (SPACEBOY BEAKER)   \n",
       "2                   (LUNCH BAG APPLE DESIGN)   \n",
       "3                   (10 COLOUR SPACEBOY PEN)   \n",
       "4                      (SPACEBOY LUNCH BOX )   \n",
       "...                                      ...   \n",
       "17789  (ROUND SNACK BOXES SET OF4 WOODLAND )   \n",
       "17790   (WHITE SPOT RED CERAMIC DRAWER KNOB)   \n",
       "17791  (WHITE SPOT BLUE CERAMIC DRAWER KNOB)   \n",
       "17792       (RED STRIPE CERAMIC DRAWER KNOB)   \n",
       "17793         (RED SPOT CERAMIC DRAWER KNOB)   \n",
       "\n",
       "                                             consequents  antecedent support  \\\n",
       "0                                      (SPACEBOY BEAKER)            0.015590   \n",
       "1                                   ( DOLLY GIRL BEAKER)            0.024499   \n",
       "2                               (10 COLOUR SPACEBOY PEN)            0.062361   \n",
       "3                               (LUNCH BAG APPLE DESIGN)            0.024499   \n",
       "4                               (10 COLOUR SPACEBOY PEN)            0.104677   \n",
       "...                                                  ...                 ...   \n",
       "17789  (BLUE SPOT CERAMIC DRAWER KNOB, WHITE SPOT RED...            0.249443   \n",
       "17790  (BLUE SPOT CERAMIC DRAWER KNOB, ROUND SNACK BO...            0.053452   \n",
       "17791  (BLUE SPOT CERAMIC DRAWER KNOB, ROUND SNACK BO...            0.035635   \n",
       "17792  (BLUE SPOT CERAMIC DRAWER KNOB, ROUND SNACK BO...            0.046771   \n",
       "17793  (BLUE SPOT CERAMIC DRAWER KNOB, ROUND SNACK BO...            0.031180   \n",
       "\n",
       "       consequent support   support  confidence       lift  leverage  \\\n",
       "0                0.024499  0.013363    0.857143  34.987013  0.012981   \n",
       "1                0.015590  0.013363    0.545455  34.987013  0.012981   \n",
       "2                0.024499  0.011136    0.178571   7.288961  0.009608   \n",
       "3                0.062361  0.011136    0.454545   7.288961  0.009608   \n",
       "4                0.024499  0.013363    0.127660   5.210832  0.010799   \n",
       "...                   ...       ...         ...        ...       ...   \n",
       "17789            0.015590  0.011136    0.044643   2.863520  0.007247   \n",
       "17790            0.011136  0.011136    0.208333  18.708333  0.010541   \n",
       "17791            0.013363  0.011136    0.312500  23.385417  0.010660   \n",
       "17792            0.011136  0.011136    0.238095  21.380952  0.010615   \n",
       "17793            0.011136  0.011136    0.357143  32.071429  0.010789   \n",
       "\n",
       "       conviction  \n",
       "0        6.828508  \n",
       "1        2.165702  \n",
       "2        1.187567  \n",
       "3        1.719005  \n",
       "4        1.118257  \n",
       "...           ...  \n",
       "17789    1.030410  \n",
       "17790    1.249092  \n",
       "17791    1.435108  \n",
       "17792    1.297884  \n",
       "17793    1.538233  \n",
       "\n",
       "[17794 rows x 9 columns]"
      ]
     },
     "execution_count": 154,
     "metadata": {},
     "output_type": "execute_result"
    }
   ],
   "source": [
    "rules"
   ]
  },
  {
   "cell_type": "markdown",
   "metadata": {},
   "source": [
    "# Görev 3: Sepet İçerisindeki Ürün Id’leri Verilen Kullanıcılara Ürün Önerisinde Bulunma"
   ]
  },
  {
   "cell_type": "markdown",
   "metadata": {},
   "source": [
    "### Adım 1:\n",
    "check_id fonksiyonunu kullanarak verilen ürünlerin isimlerini bulunuz."
   ]
  },
  {
   "cell_type": "code",
   "execution_count": 155,
   "metadata": {},
   "outputs": [
    {
     "data": {
      "text/plain": [
       "['PACK OF 6 SKULL PAPER CUPS']"
      ]
     },
     "execution_count": 155,
     "metadata": {},
     "output_type": "execute_result"
    }
   ],
   "source": [
    "def check_id(dataframe, stock_code):\n",
    "    product_name = dataframe[dataframe[\"StockCode\"] == stock_code][[\"Description\"]].values[0].tolist()\n",
    "    return product_name\n",
    "\n",
    "\n",
    "check_id(df_ger, 21987)"
   ]
  },
  {
   "cell_type": "markdown",
   "metadata": {},
   "source": [
    "### Adım 2:\n",
    "arl_recommender fonksiyonunu kullanarak 3 kullanıcı için ürün önerisinde bulununuz."
   ]
  },
  {
   "cell_type": "markdown",
   "metadata": {},
   "source": [
    "Kullanıcı 1’in sepetinde bulunan ürünün id'si: 21987\n",
    "\n",
    "Kullanıcı 2’in sepetinde bulunan ürünün id'si : 23235\n",
    "\n",
    "Kullanıcı 3’in sepetinde bulunan ürünün id'si : 22747"
   ]
  },
  {
   "cell_type": "code",
   "execution_count": 156,
   "metadata": {},
   "outputs": [
    {
     "data": {
      "text/html": [
       "<div>\n",
       "<style scoped>\n",
       "    .dataframe tbody tr th:only-of-type {\n",
       "        vertical-align: middle;\n",
       "    }\n",
       "\n",
       "    .dataframe tbody tr th {\n",
       "        vertical-align: top;\n",
       "    }\n",
       "\n",
       "    .dataframe thead th {\n",
       "        text-align: right;\n",
       "    }\n",
       "</style>\n",
       "<table border=\"1\" class=\"dataframe\">\n",
       "  <thead>\n",
       "    <tr style=\"text-align: right;\">\n",
       "      <th></th>\n",
       "      <th>antecedents</th>\n",
       "      <th>consequents</th>\n",
       "      <th>antecedent support</th>\n",
       "      <th>consequent support</th>\n",
       "      <th>support</th>\n",
       "      <th>confidence</th>\n",
       "      <th>lift</th>\n",
       "      <th>leverage</th>\n",
       "      <th>conviction</th>\n",
       "    </tr>\n",
       "  </thead>\n",
       "  <tbody>\n",
       "    <tr>\n",
       "      <th>0</th>\n",
       "      <td>(16237)</td>\n",
       "      <td>(22326)</td>\n",
       "      <td>0.011136</td>\n",
       "      <td>0.249443</td>\n",
       "      <td>0.011136</td>\n",
       "      <td>1.000000</td>\n",
       "      <td>4.008929</td>\n",
       "      <td>0.008358</td>\n",
       "      <td>inf</td>\n",
       "    </tr>\n",
       "    <tr>\n",
       "      <th>1</th>\n",
       "      <td>(22326)</td>\n",
       "      <td>(16237)</td>\n",
       "      <td>0.249443</td>\n",
       "      <td>0.011136</td>\n",
       "      <td>0.011136</td>\n",
       "      <td>0.044643</td>\n",
       "      <td>4.008929</td>\n",
       "      <td>0.008358</td>\n",
       "      <td>1.035073</td>\n",
       "    </tr>\n",
       "    <tr>\n",
       "      <th>2</th>\n",
       "      <td>(20674)</td>\n",
       "      <td>(20675)</td>\n",
       "      <td>0.022272</td>\n",
       "      <td>0.033408</td>\n",
       "      <td>0.013363</td>\n",
       "      <td>0.600000</td>\n",
       "      <td>17.960000</td>\n",
       "      <td>0.012619</td>\n",
       "      <td>2.416481</td>\n",
       "    </tr>\n",
       "    <tr>\n",
       "      <th>3</th>\n",
       "      <td>(20675)</td>\n",
       "      <td>(20674)</td>\n",
       "      <td>0.033408</td>\n",
       "      <td>0.022272</td>\n",
       "      <td>0.013363</td>\n",
       "      <td>0.400000</td>\n",
       "      <td>17.960000</td>\n",
       "      <td>0.012619</td>\n",
       "      <td>1.629547</td>\n",
       "    </tr>\n",
       "    <tr>\n",
       "      <th>4</th>\n",
       "      <td>(20674)</td>\n",
       "      <td>(20676)</td>\n",
       "      <td>0.022272</td>\n",
       "      <td>0.037862</td>\n",
       "      <td>0.011136</td>\n",
       "      <td>0.500000</td>\n",
       "      <td>13.205882</td>\n",
       "      <td>0.010293</td>\n",
       "      <td>1.924276</td>\n",
       "    </tr>\n",
       "    <tr>\n",
       "      <th>...</th>\n",
       "      <td>...</td>\n",
       "      <td>...</td>\n",
       "      <td>...</td>\n",
       "      <td>...</td>\n",
       "      <td>...</td>\n",
       "      <td>...</td>\n",
       "      <td>...</td>\n",
       "      <td>...</td>\n",
       "      <td>...</td>\n",
       "    </tr>\n",
       "    <tr>\n",
       "      <th>18365</th>\n",
       "      <td>(22629)</td>\n",
       "      <td>(22467, 22326, 22423, 21915, 22077)</td>\n",
       "      <td>0.104677</td>\n",
       "      <td>0.011136</td>\n",
       "      <td>0.011136</td>\n",
       "      <td>0.106383</td>\n",
       "      <td>9.553191</td>\n",
       "      <td>0.009970</td>\n",
       "      <td>1.106586</td>\n",
       "    </tr>\n",
       "    <tr>\n",
       "      <th>18366</th>\n",
       "      <td>(22326)</td>\n",
       "      <td>(22467, 22629, 22423, 21915, 22077)</td>\n",
       "      <td>0.249443</td>\n",
       "      <td>0.011136</td>\n",
       "      <td>0.011136</td>\n",
       "      <td>0.044643</td>\n",
       "      <td>4.008929</td>\n",
       "      <td>0.008358</td>\n",
       "      <td>1.035073</td>\n",
       "    </tr>\n",
       "    <tr>\n",
       "      <th>18367</th>\n",
       "      <td>(22423)</td>\n",
       "      <td>(22467, 22629, 22326, 21915, 22077)</td>\n",
       "      <td>0.140312</td>\n",
       "      <td>0.011136</td>\n",
       "      <td>0.011136</td>\n",
       "      <td>0.079365</td>\n",
       "      <td>7.126984</td>\n",
       "      <td>0.009573</td>\n",
       "      <td>1.074111</td>\n",
       "    </tr>\n",
       "    <tr>\n",
       "      <th>18368</th>\n",
       "      <td>(21915)</td>\n",
       "      <td>(22467, 22629, 22326, 22423, 22077)</td>\n",
       "      <td>0.046771</td>\n",
       "      <td>0.011136</td>\n",
       "      <td>0.011136</td>\n",
       "      <td>0.238095</td>\n",
       "      <td>21.380952</td>\n",
       "      <td>0.010615</td>\n",
       "      <td>1.297884</td>\n",
       "    </tr>\n",
       "    <tr>\n",
       "      <th>18369</th>\n",
       "      <td>(22077)</td>\n",
       "      <td>(22467, 22629, 22326, 22423, 21915)</td>\n",
       "      <td>0.104677</td>\n",
       "      <td>0.011136</td>\n",
       "      <td>0.011136</td>\n",
       "      <td>0.106383</td>\n",
       "      <td>9.553191</td>\n",
       "      <td>0.009970</td>\n",
       "      <td>1.106586</td>\n",
       "    </tr>\n",
       "  </tbody>\n",
       "</table>\n",
       "<p>18370 rows × 9 columns</p>\n",
       "</div>"
      ],
      "text/plain": [
       "      antecedents                          consequents  antecedent support  \\\n",
       "0         (16237)                              (22326)            0.011136   \n",
       "1         (22326)                              (16237)            0.249443   \n",
       "2         (20674)                              (20675)            0.022272   \n",
       "3         (20675)                              (20674)            0.033408   \n",
       "4         (20674)                              (20676)            0.022272   \n",
       "...           ...                                  ...                 ...   \n",
       "18365     (22629)  (22467, 22326, 22423, 21915, 22077)            0.104677   \n",
       "18366     (22326)  (22467, 22629, 22423, 21915, 22077)            0.249443   \n",
       "18367     (22423)  (22467, 22629, 22326, 21915, 22077)            0.140312   \n",
       "18368     (21915)  (22467, 22629, 22326, 22423, 22077)            0.046771   \n",
       "18369     (22077)  (22467, 22629, 22326, 22423, 21915)            0.104677   \n",
       "\n",
       "       consequent support   support  confidence       lift  leverage  \\\n",
       "0                0.249443  0.011136    1.000000   4.008929  0.008358   \n",
       "1                0.011136  0.011136    0.044643   4.008929  0.008358   \n",
       "2                0.033408  0.013363    0.600000  17.960000  0.012619   \n",
       "3                0.022272  0.013363    0.400000  17.960000  0.012619   \n",
       "4                0.037862  0.011136    0.500000  13.205882  0.010293   \n",
       "...                   ...       ...         ...        ...       ...   \n",
       "18365            0.011136  0.011136    0.106383   9.553191  0.009970   \n",
       "18366            0.011136  0.011136    0.044643   4.008929  0.008358   \n",
       "18367            0.011136  0.011136    0.079365   7.126984  0.009573   \n",
       "18368            0.011136  0.011136    0.238095  21.380952  0.010615   \n",
       "18369            0.011136  0.011136    0.106383   9.553191  0.009970   \n",
       "\n",
       "       conviction  \n",
       "0             inf  \n",
       "1        1.035073  \n",
       "2        2.416481  \n",
       "3        1.629547  \n",
       "4        1.924276  \n",
       "...           ...  \n",
       "18365    1.106586  \n",
       "18366    1.035073  \n",
       "18367    1.074111  \n",
       "18368    1.297884  \n",
       "18369    1.106586  \n",
       "\n",
       "[18370 rows x 9 columns]"
      ]
     },
     "execution_count": 156,
     "metadata": {},
     "output_type": "execute_result"
    }
   ],
   "source": [
    "rules = create_rules(df)\n",
    "rules"
   ]
  },
  {
   "cell_type": "code",
   "execution_count": 157,
   "metadata": {},
   "outputs": [
    {
     "data": {
      "text/plain": [
       "['PACK OF 6 SKULL PAPER CUPS']"
      ]
     },
     "execution_count": 157,
     "metadata": {},
     "output_type": "execute_result"
    }
   ],
   "source": [
    "product_id = 21987\n",
    "check_id(df_ger, product_id)"
   ]
  },
  {
   "cell_type": "code",
   "execution_count": 158,
   "metadata": {},
   "outputs": [],
   "source": [
    "def arl_recommender(rules_df, product_id, rec_count=1):\n",
    "    sorted_rules = rules_df.sort_values(\"lift\", ascending=False)\n",
    "    recommendation_list = []\n",
    "    for i, product in enumerate(sorted_rules[\"antecedents\"]):\n",
    "        for j in list(product):\n",
    "            if j == product_id:\n",
    "                recommendation_list.append(list(sorted_rules.iloc[i][\"consequents\"])[0])\n",
    "\n",
    "    return recommendation_list[0:rec_count]"
   ]
  },
  {
   "cell_type": "code",
   "execution_count": 160,
   "metadata": {},
   "outputs": [],
   "source": [
    "product_id1 = 21987\n",
    "product_id2 = 23235\n",
    "product_id3 = 22747"
   ]
  },
  {
   "cell_type": "code",
   "execution_count": 165,
   "metadata": {},
   "outputs": [
    {
     "data": {
      "text/plain": [
       "[21086]"
      ]
     },
     "execution_count": 165,
     "metadata": {},
     "output_type": "execute_result"
    }
   ],
   "source": [
    "arl_recommender(rules, product_id1)"
   ]
  },
  {
   "cell_type": "code",
   "execution_count": 166,
   "metadata": {},
   "outputs": [
    {
     "data": {
      "text/plain": [
       "[23243]"
      ]
     },
     "execution_count": 166,
     "metadata": {},
     "output_type": "execute_result"
    }
   ],
   "source": [
    "arl_recommender(rules, product_id2)"
   ]
  },
  {
   "cell_type": "code",
   "execution_count": 168,
   "metadata": {},
   "outputs": [
    {
     "data": {
      "text/plain": [
       "[22746]"
      ]
     },
     "execution_count": 168,
     "metadata": {},
     "output_type": "execute_result"
    }
   ],
   "source": [
    "arl_recommender(rules, product_id3)"
   ]
  },
  {
   "cell_type": "markdown",
   "metadata": {},
   "source": [
    "### Adım 3:\n",
    "Önerilecek ürünlerin isimlerine bakınız."
   ]
  },
  {
   "cell_type": "code",
   "execution_count": 164,
   "metadata": {},
   "outputs": [
    {
     "data": {
      "text/plain": [
       "['SET/6 RED SPOTTY PAPER CUPS']"
      ]
     },
     "execution_count": 164,
     "metadata": {},
     "output_type": "execute_result"
    }
   ],
   "source": [
    "check_id(df_ger, 21086)"
   ]
  },
  {
   "cell_type": "code",
   "execution_count": 170,
   "metadata": {},
   "outputs": [
    {
     "data": {
      "text/plain": [
       "['SET OF TEA COFFEE SUGAR TINS PANTRY']"
      ]
     },
     "execution_count": 170,
     "metadata": {},
     "output_type": "execute_result"
    }
   ],
   "source": [
    "check_id(df_ger, 23243)"
   ]
  },
  {
   "cell_type": "code",
   "execution_count": 171,
   "metadata": {},
   "outputs": [
    {
     "data": {
      "text/plain": [
       "[\"POPPY'S PLAYHOUSE LIVINGROOM \"]"
      ]
     },
     "execution_count": 171,
     "metadata": {},
     "output_type": "execute_result"
    }
   ],
   "source": [
    "check_id(df_ger, 22746)"
   ]
  }
 ],
 "metadata": {
  "kernelspec": {
   "display_name": "Python 3.9.12 ('genc_env')",
   "language": "python",
   "name": "python3"
  },
  "language_info": {
   "codemirror_mode": {
    "name": "ipython",
    "version": 3
   },
   "file_extension": ".py",
   "mimetype": "text/x-python",
   "name": "python",
   "nbconvert_exporter": "python",
   "pygments_lexer": "ipython3",
   "version": "3.9.12"
  },
  "orig_nbformat": 4,
  "vscode": {
   "interpreter": {
    "hash": "e3959f86467369a69e2ca2d0e55f82e2aeae31d60f101d47d0664eee6a259f95"
   }
  }
 },
 "nbformat": 4,
 "nbformat_minor": 2
}
